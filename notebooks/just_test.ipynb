{
 "cells": [
  {
   "cell_type": "code",
   "execution_count": 1,
   "id": "fc5f9dfd",
   "metadata": {},
   "outputs": [
    {
     "name": "stdout",
     "output_type": "stream",
     "text": [
      "403\n",
      "{'detail': 'Not authenticated'}\n"
     ]
    }
   ],
   "source": [
    "import requests\n",
    "\n",
    "ticker = \"AAPL\"\n",
    "url = f\"https://api.pushshift.io/reddit/search/comment/?q={ticker}&size=3\"\n",
    "response = requests.get(url, timeout=10)\n",
    "print(response.status_code)\n",
    "print(response.json())\n"
   ]
  },
  {
   "cell_type": "code",
   "execution_count": 1,
   "id": "cc6b0dec",
   "metadata": {},
   "outputs": [],
   "source": [
    "import requests\n",
    "from bs4 import BeautifulSoup\n",
    "\n",
    "def fetch_valueresearch_search(company: str):\n",
    "    url = f\"https://www.valueresearchonline.com/search/?q={company}\"\n",
    "    headers = {\"User-Agent\": \"Mozilla/5.0\"}\n",
    "    res = requests.get(url, headers=headers)\n",
    "    soup = BeautifulSoup(res.text, \"html.parser\")\n",
    "\n",
    "    results = []\n",
    "    for article in soup.select(\".search-results .article-item\"):\n",
    "        title = article.select_one(\"h3\").get_text(strip=True)\n",
    "        summary = article.select_one(\"p\").get_text(strip=True)\n",
    "        link = \"https://www.valueresearchonline.com\" + article.select_one(\"a\")[\"href\"]\n",
    "        results.append((title, summary, link))\n",
    "    return results\n"
   ]
  },
  {
   "cell_type": "code",
   "execution_count": 5,
   "id": "9caa2fe6",
   "metadata": {},
   "outputs": [
    {
     "data": {
      "text/plain": [
       "[]"
      ]
     },
     "execution_count": 5,
     "metadata": {},
     "output_type": "execute_result"
    }
   ],
   "source": [
    "company = \"TCS\"\n",
    "results = fetch_valueresearch_search(company)\n",
    "results"
   ]
  },
  {
   "cell_type": "code",
   "execution_count": null,
   "id": "d1270ace",
   "metadata": {},
   "outputs": [],
   "source": []
  },
  {
   "cell_type": "code",
   "execution_count": 6,
   "id": "b0f6215a",
   "metadata": {},
   "outputs": [
    {
     "data": {
      "text/plain": [
       "[]"
      ]
     },
     "execution_count": 6,
     "metadata": {},
     "output_type": "execute_result"
    }
   ],
   "source": [
    "import feedparser\n",
    "\n",
    "\n",
    "company_name = \"Netweb Technologies\"\n",
    "ticker = \"NETWEB\"\n",
    "\n",
    "feed = feedparser.parse(\"https://www.valueresearchonline.com/rss/stocks.xml\")\n",
    "\n",
    "items = []\n",
    "for entry in feed.entries[:50]:\n",
    "    title = entry.get(\"title\", \"\").lower()\n",
    "    summary = entry.get(\"summary\", \"\").lower()\n",
    "\n",
    "    if ticker.lower() in title or ticker.lower() in summary or \\\n",
    "       company_name.lower() in title or company_name.lower() in summary:\n",
    "        items.append(entry)\n",
    "\n",
    "items"
   ]
  },
  {
   "cell_type": "code",
   "execution_count": 9,
   "id": "ece68e89",
   "metadata": {},
   "outputs": [],
   "source": [
    "import requests\n",
    "from datetime import datetime\n",
    "import logging\n",
    "\n",
    "\n",
    "\n",
    "def get_trendlyne_stock_id(ticker: str) -> str | None:\n",
    "    \"\"\"\n",
    "    Resolve Trendlyne numeric ID for a stock ticker.\n",
    "    \"\"\"\n",
    "    try:\n",
    "        url = \"https://trendlyne.com/member/api/ac_snames/stock/\"\n",
    "        headers = {\n",
    "            \"User-Agent\": \"Mozilla/5.0\",\n",
    "            \"x-requested-with\": \"XMLHttpRequest\",\n",
    "        }\n",
    "        resp = requests.get(url, headers=headers, timeout=10)\n",
    "        resp.raise_for_status()\n",
    "        data = resp.json()  # returns a list of stock dicts\n",
    "        for item in data:\n",
    "            if item.get(\"symbol\") == ticker.upper():\n",
    "                return str(item.get(\"id\"))\n",
    "        #logger.warning(f\"Ticker {ticker} not found in Trendlyne stock list.\")\n",
    "    except Exception as e:\n",
    "        #logger.error(f\"Error fetching Trendlyne stock ID: {e}\")\n",
    "        pass\n",
    "    return None\n",
    "\n",
    "def fetch_trendlyne_news(ticker: str) -> list[dict]:\n",
    "    \"\"\"\n",
    "    Fetch latest news for a given stock from Trendlyne.\n",
    "    \"\"\"\n",
    "    news_items = []\n",
    "    stock_id = get_trendlyne_stock_id(ticker)\n",
    "    if not stock_id:\n",
    "        return news_items\n",
    "\n",
    "    news_url = f\"https://trendlyne.com/equity/api/getNewsByStockId/{stock_id}\"\n",
    "    headers = {\n",
    "        \"User-Agent\": \"Mozilla/5.0\",\n",
    "        \"x-requested-with\": \"XMLHttpRequest\",\n",
    "    }\n",
    "\n",
    "    try:\n",
    "        resp = requests.post(news_url, headers=headers, timeout=10)\n",
    "        resp.raise_for_status()\n",
    "        data = resp.json()\n",
    "        for entry in data.get(\"data\", []):\n",
    "            published = datetime.strptime(entry.get(\"published_at\"), \"%Y-%m-%d %H:%M:%S\")\n",
    "            news_items.append(\n",
    "                {\n",
    "                    \"title\": entry.get(\"title\"),\n",
    "                    \"link\": entry.get(\"url\"),\n",
    "                    \"date\": published,\n",
    "                    \"source\": entry.get(\"source_name\"),\n",
    "                }\n",
    "            )\n",
    "        #logger.info(f\"Fetched {len(news_items)} news items for {ticker}.\")\n",
    "    except Exception as e:\n",
    "        #logger.error(f\"Error fetching Trendlyne news: {e}\")\n",
    "        pass\n",
    "\n",
    "    return news_items\n",
    "\n"
   ]
  },
  {
   "cell_type": "code",
   "execution_count": 11,
   "id": "c2e1da29",
   "metadata": {},
   "outputs": [
    {
     "data": {
      "text/plain": [
       "[]"
      ]
     },
     "execution_count": 11,
     "metadata": {},
     "output_type": "execute_result"
    }
   ],
   "source": [
    "ticker = \"INFY\"\n",
    " \n",
    "news = fetch_trendlyne_news(ticker)\n",
    "for n in news[:5]:  # first 5 items\n",
    "    print(n.date, n.title)\n",
    "news\n"
   ]
  },
  {
   "cell_type": "code",
   "execution_count": null,
   "id": "ae4d8632",
   "metadata": {},
   "outputs": [],
   "source": [
    "# Get-ChildItem -Recurse -Directory \"C:\\Users\\Admin\\.virtualenvs\\equity_forecasting_env\" | Select-Object -ExpandProperty FullName\n",
    "\n"
   ]
  }
 ],
 "metadata": {
  "kernelspec": {
   "display_name": "C:\\Users\\Admin\\.virtualenvs\\equity_forecasting_env",
   "language": "python",
   "name": "python3"
  },
  "language_info": {
   "codemirror_mode": {
    "name": "ipython",
    "version": 3
   },
   "file_extension": ".py",
   "mimetype": "text/x-python",
   "name": "python",
   "nbconvert_exporter": "python",
   "pygments_lexer": "ipython3",
   "version": "3.13.2"
  }
 },
 "nbformat": 4,
 "nbformat_minor": 5
}
