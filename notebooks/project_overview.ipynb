{
 "cells": [
  {
   "cell_type": "code",
   "execution_count": 3,
   "id": "4c4706cc",
   "metadata": {},
   "outputs": [],
   "source": [
    "from graphviz import Digraph\n",
    "from IPython.display import display, Markdown"
   ]
  },
  {
   "cell_type": "code",
   "execution_count": 4,
   "id": "449f6d88",
   "metadata": {},
   "outputs": [
    {
     "data": {
      "text/markdown": [
       "### [Open Aligned Equity Forecasting Pipeline in New Tab](equity_pipeline_aligned.svg){target='_blank'}"
      ],
      "text/plain": [
       "<IPython.core.display.Markdown object>"
      ]
     },
     "metadata": {},
     "output_type": "display_data"
    }
   ],
   "source": [
    "# -------------------------------\n",
    "# Flow Diagram (Graphviz) — Open in New Tab (Aligned Arrows)\n",
    "# -------------------------------\n",
    "from graphviz import Digraph\n",
    "from IPython.display import display, Markdown\n",
    "\n",
    "dot = Digraph(comment='Equity Forecasting Pipeline', format='svg')\n",
    "dot.attr(rankdir='TB', size='10')  # Top to Bottom\n",
    "\n",
    "# -------------------------------\n",
    "# Define nodes\n",
    "# -------------------------------\n",
    "dot.node('UI', 'User Input (Dashboard)', shape='box', style='filled', color='lightblue')\n",
    "dot.node('AE', 'ACTIVE_EQUITY\\n(Global State)', shape='ellipse', style='filled', color='lightgrey')\n",
    "\n",
    "# Market Sentiment branch\n",
    "dot.node('MS', 'Market Sentiment', shape='box', style='filled', color='lightgreen')\n",
    "dot.node('FEEDS', 'Feeds → APIs', shape='box')\n",
    "dot.node('PP', 'Preprocess', shape='box')\n",
    "dot.node('EX', 'Extractor', shape='box')\n",
    "dot.node('AGG', 'Aggregator', shape='box')\n",
    "\n",
    "# Forecasting branch\n",
    "dot.node('FC', 'Forecasting', shape='box', style='filled', color='skyblue')\n",
    "dot.node('HD', 'Historical Data Loader', shape='box')\n",
    "dot.node('LM', 'Forecast Model (LSTM)', shape='box')\n",
    "\n",
    "# Combined Output\n",
    "dot.node('CO', 'Combined Output\\n(Dashboard & Alerts)', shape='box', style='filled', color='orange')\n",
    "\n",
    "# -------------------------------\n",
    "# Align nodes horizontally using same rank\n",
    "# -------------------------------\n",
    "with dot.subgraph() as s:\n",
    "    s.attr(rank='same')\n",
    "    s.node('MS')\n",
    "    s.node('FC')\n",
    "\n",
    "# -------------------------------\n",
    "# Add edges\n",
    "# -------------------------------\n",
    "dot.edge('UI', 'AE')\n",
    "dot.edge('AE', 'MS')\n",
    "dot.edge('AE', 'FC')\n",
    "\n",
    "dot.edge('MS', 'FEEDS')\n",
    "dot.edge('FEEDS', 'PP')\n",
    "dot.edge('PP', 'EX')\n",
    "dot.edge('EX', 'AGG')\n",
    "dot.edge('AGG', 'CO')\n",
    "\n",
    "dot.edge('FC', 'HD')\n",
    "dot.edge('HD', 'LM')\n",
    "dot.edge('LM', 'CO')\n",
    "\n",
    "# Render diagram to SVG bytes\n",
    "svg_bytes = dot.pipe(format='svg')\n",
    "\n",
    "# Save SVG to file\n",
    "output_file = \"equity_pipeline_aligned.svg\"\n",
    "with open(output_file, \"wb\") as f:\n",
    "    f.write(svg_bytes)\n",
    "\n",
    "# Display clickable link to open in new tab\n",
    "display(Markdown(f\"### [Open Aligned Equity Forecasting Pipeline in New Tab]({output_file}){{target='_blank'}}\"))\n"
   ]
  }
 ],
 "metadata": {
  "kernelspec": {
   "display_name": "C:\\Users\\Admin\\.virtualenvs\\equity_forecasting_env",
   "language": "python",
   "name": "python3"
  },
  "language_info": {
   "codemirror_mode": {
    "name": "ipython",
    "version": 3
   },
   "file_extension": ".py",
   "mimetype": "text/x-python",
   "name": "python",
   "nbconvert_exporter": "python",
   "pygments_lexer": "ipython3",
   "version": "3.13.2"
  }
 },
 "nbformat": 4,
 "nbformat_minor": 5
}
